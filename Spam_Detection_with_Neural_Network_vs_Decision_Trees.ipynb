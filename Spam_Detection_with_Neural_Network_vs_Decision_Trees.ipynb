{
  "nbformat": 4,
  "nbformat_minor": 0,
  "metadata": {
    "colab": {
      "provenance": [],
      "authorship_tag": "ABX9TyMeHLp5dTmNx/sypmg3Cr4o",
      "include_colab_link": true
    },
    "kernelspec": {
      "name": "python3",
      "display_name": "Python 3"
    },
    "language_info": {
      "name": "python"
    }
  },
  "cells": [
    {
      "cell_type": "markdown",
      "metadata": {
        "id": "view-in-github",
        "colab_type": "text"
      },
      "source": [
        "<a href=\"https://colab.research.google.com/github/Franghias/Spam-Detection/blob/main/Spam_Detection_with_Neural_Network_vs_Decision_Trees.ipynb\" target=\"_parent\"><img src=\"https://colab.research.google.com/assets/colab-badge.svg\" alt=\"Open In Colab\"/></a>"
      ]
    },
    {
      "cell_type": "markdown",
      "source": [
        "### Source from UC Irvine Machine Learning Repository  \n",
        "https://archive.ics.uci.edu/dataset/228/sms+spam+collection\n",
        "\n",
        "Almeida, Tiago and Jos Hidalgo. \"SMS Spam Collection.\" UCI Machine Learning Repository, 2011, https://doi.org/10.24432/C5CC84."
      ],
      "metadata": {
        "id": "jFosBEGR8qjN"
      }
    },
    {
      "cell_type": "markdown",
      "source": [
        "### Step 1. Import the libraries and the dataset"
      ],
      "metadata": {
        "id": "qjvPe_fiSObb"
      }
    },
    {
      "cell_type": "code",
      "source": [
        "import pandas as pd\n",
        "import re\n",
        "import numpy as np\n",
        "import seaborn as sns\n",
        "import matplotlib.pyplot as plt\n",
        "from scipy import stats\n",
        "import tensorflow as tf\n",
        "from tensorflow.keras.preprocessing.text import Tokenizer\n",
        "from tensorflow.keras.preprocessing.sequence import pad_sequences\n",
        "from sklearn.metrics import accuracy_score, precision_score, recall_score, f1_score, confusion_matrix, classification_report\n",
        "from sklearn.feature_extraction.text import TfidfVectorizer\n",
        "from sklearn.tree import DecisionTreeClassifier\n",
        "from sklearn.model_selection import train_test_split\n",
        "from sklearn.preprocessing import LabelEncoder"
      ],
      "metadata": {
        "id": "MxkbkijX8Brv"
      },
      "execution_count": 705,
      "outputs": []
    },
    {
      "cell_type": "code",
      "source": [
        "from google.colab import drive\n",
        "drive.mount('/content/drive')"
      ],
      "metadata": {
        "colab": {
          "base_uri": "https://localhost:8080/",
          "height": 0
        },
        "id": "6LlhPZFA8Bus",
        "outputId": "99aa0a69-9c7d-450c-e223-cadf15dbcb1e"
      },
      "execution_count": 706,
      "outputs": [
        {
          "output_type": "stream",
          "name": "stdout",
          "text": [
            "Drive already mounted at /content/drive; to attempt to forcibly remount, call drive.mount(\"/content/drive\", force_remount=True).\n"
          ]
        }
      ]
    },
    {
      "cell_type": "code",
      "source": [
        "# Define file path\n",
        "file_path = \"/content/drive/MyDrive/Public Dataset Available/SMS Spam Collection/SMSSpamCollection\"  # Update with your actual file path\n",
        "\n",
        "# Read the file with tab as the separator\n",
        "df = pd.read_csv(file_path, sep='\\t', header=None, names=[\"label\", \"message\"], encoding=\"utf-8\")"
      ],
      "metadata": {
        "id": "7DMFxlUBE5OF"
      },
      "execution_count": 707,
      "outputs": []
    },
    {
      "cell_type": "markdown",
      "source": [
        "### Step 2. Data Exploration"
      ],
      "metadata": {
        "id": "51YosQ2pTVzT"
      }
    },
    {
      "cell_type": "markdown",
      "source": [
        "#### See the general idea of how is the dataset looks like"
      ],
      "metadata": {
        "id": "hwxtchp6SVoI"
      }
    },
    {
      "cell_type": "code",
      "source": [
        "# Compute the length of each message (in words)\n",
        "df[\"message_length\"] = df[\"message\"].apply(lambda x: len(x.split()))\n",
        "\n",
        "# Find the minimum and maximum message lengths\n",
        "min_length = df[\"message_length\"].min()\n",
        "max_length = df[\"message_length\"].max()\n",
        "\n",
        "print(f\"Minimum message length: {min_length} words\")\n",
        "print(f\"Maximum message length: {max_length} words\")\n",
        "\n",
        "# Calculate statistics number\n",
        "mean_length = df[\"message_length\"].mean()\n",
        "median_length = df[\"message_length\"].median()\n",
        "mode_length = stats.mode(df[\"message_length\"], keepdims=True)[0][0]  # Mode returns an array, so we extract the first value\n",
        "std_dev_length = df[\"message_length\"].std()\n",
        "\n",
        "# Print results\n",
        "print(f\"Mean Message Length: {mean_length:.2f}\")\n",
        "print(f\"Median Message Length: {median_length}\")\n",
        "print(f\"Mode Message Length: {mode_length}\")\n",
        "print(f\"Standard Deviation: {std_dev_length:.2f}\")"
      ],
      "metadata": {
        "colab": {
          "base_uri": "https://localhost:8080/",
          "height": 0
        },
        "id": "ExocCcBh8B3F",
        "outputId": "5cb83500-1835-462f-a1c3-dc54fd474b6d"
      },
      "execution_count": 708,
      "outputs": [
        {
          "output_type": "stream",
          "name": "stdout",
          "text": [
            "Minimum message length: 1 words\n",
            "Maximum message length: 171 words\n",
            "Mean Message Length: 15.60\n",
            "Median Message Length: 12.0\n",
            "Mode Message Length: 6\n",
            "Standard Deviation: 11.40\n"
          ]
        }
      ]
    },
    {
      "cell_type": "code",
      "source": [
        "# Plot the histogram of message lengths (word count)\n",
        "plt.figure(figsize=(10, 6))\n",
        "plt.hist(df[\"message_length\"], bins=30, color=\"skyblue\", edgecolor=\"black\")\n",
        "plt.xlabel(\"Message Length (Number of Words)\")\n",
        "plt.ylabel(\"Frequency\")\n",
        "plt.title(\"Histogram of Message Lengths\")\n",
        "plt.grid(True)\n",
        "plt.show()"
      ],
      "metadata": {
        "colab": {
          "base_uri": "https://localhost:8080/",
          "height": 564
        },
        "id": "xBjbPn-wSjc7",
        "outputId": "72b11af3-7d00-459b-e546-b74d31e3af60"
      },
      "execution_count": 709,
      "outputs": [
        {
          "output_type": "display_data",
          "data": {
            "text/plain": [
              "<Figure size 1000x600 with 1 Axes>"
            ],
            "image/png": "[encoded data removed]"
          },
          "metadata": {}
        }
      ]
    },
    {
      "cell_type": "code",
      "source": [
        "df.info()"
      ],
      "metadata": {
        "colab": {
          "base_uri": "https://localhost:8080/",
          "height": 0
        },
        "id": "3aE4OqIVGaK5",
        "outputId": "65a6c326-43e5-4924-8039-27871c7a8277"
      },
      "execution_count": 710,
      "outputs": [
        {
          "output_type": "stream",
          "name": "stdout",
          "text": [
            "<class 'pandas.core.frame.DataFrame'>\n",
            "RangeIndex: 5572 entries, 0 to 5571\n",
            "Data columns (total 3 columns):\n",
            " #   Column          Non-Null Count  Dtype \n",
            "---  ------          --------------  ----- \n",
            " 0   label           5572 non-null   object\n",
            " 1   message         5572 non-null   object\n",
            " 2   message_length  5572 non-null   int64 \n",
            "dtypes: int64(1), object(2)\n",
            "memory usage: 130.7+ KB\n"
          ]
        }
      ]
    },
    {
      "cell_type": "markdown",
      "source": [
        "> There is 5572 rows with three columns: lable, the original message, and the length of each message"
      ],
      "metadata": {
        "id": "23D0D-AYSw0A"
      }
    },
    {
      "cell_type": "code",
      "source": [
        "# Find the shortest message\n",
        "shortest_message = df[df[\"message_length\"] == min_length][\"message\"].values[0]\n",
        "print(f\"Shortest message: \\\"{shortest_message}\\\"\")\n",
        "\n",
        "# Find the longest message\n",
        "longest_message = df[df[\"message_length\"] == max_length][\"message\"].values[0]\n",
        "print(f\"Longest message: \\\"{longest_message}\\\"\")"
      ],
      "metadata": {
        "colab": {
          "base_uri": "https://localhost:8080/",
          "height": 0
        },
        "id": "IeSt35_I8B6F",
        "outputId": "6b1590d4-d246-4f8e-8630-69131be9c2c9"
      },
      "execution_count": 711,
      "outputs": [
        {
          "output_type": "stream",
          "name": "stdout",
          "text": [
            "Shortest message: \"Yup\"\n",
            "Longest message: \"For me the love should start with attraction.i should feel that I need her every time around me.she should be the first thing which comes in my thoughts.I would start the day and end it with her.she should be there every time I dream.love will be then when my every breath has her name.my life should happen around her.my life will be named to her.I would cry for her.will give all my happiness and take all her sorrows.I will be ready to fight with anyone for her.I will be in love when I will be doing the craziest things for her.love will be when I don't have to proove anyone that my girl is the most beautiful lady on the whole planet.I will always be singing praises for her.love will be when I start up making chicken curry and end up makiing sambar.life will be the most beautiful then.will get every morning and thank god for the day because she is with me.I would like to say a lot..will tell later..\"\n"
          ]
        }
      ]
    },
    {
      "cell_type": "markdown",
      "source": [
        "> The message with the **minimum length is 1** and the message with the **maximum length is 171**"
      ],
      "metadata": {
        "id": "2RPPMMRaS_F7"
      }
    },
    {
      "cell_type": "markdown",
      "source": [
        "### Step 3. Clean the data"
      ],
      "metadata": {
        "id": "R3TpSDjQTZLe"
      }
    },
    {
      "cell_type": "code",
      "source": [
        "# Function to remove punctuation and special characters\n",
        "def clean_text(text):\n",
        "    text = re.sub(r'[^a-zA-Z0-9\\s]', ' ', text)  # Keep only letters, numbers, and spaces\n",
        "    text = ' '.join(text.split())  # Put multiple spaces into a single space\n",
        "    return text\n",
        "\n",
        "# Apply cleaning function to \"message\" column\n",
        "df[\"cleaned_message\"] = df[\"message\"].apply(clean_text)"
      ],
      "metadata": {
        "id": "cdjGhnV_I-QF"
      },
      "execution_count": 712,
      "outputs": []
    },
    {
      "cell_type": "markdown",
      "source": [
        "> Function to only keep the letters, numbers, and spaces"
      ],
      "metadata": {
        "id": "HdEEFluITOwm"
      }
    },
    {
      "cell_type": "markdown",
      "source": [
        "### Step 4. Transform the data"
      ],
      "metadata": {
        "id": "wyS9mykQTdyh"
      }
    },
    {
      "cell_type": "markdown",
      "source": [
        "### Use the model **4-Layer Deep Neural Network (DNN)**"
      ],
      "metadata": {
        "id": "NI6MsL6iTwCg"
      }
    },
    {
      "cell_type": "code",
      "source": [
        "# Encode labels (ham = 0, spam = 1)\n",
        "label_encoder = LabelEncoder()\n",
        "df[\"label\"] = label_encoder.fit_transform(df[\"label\"])"
      ],
      "metadata": {
        "id": "kz0UKtXd8B8q"
      },
      "execution_count": 713,
      "outputs": []
    },
    {
      "cell_type": "code",
      "source": [
        "# Tokenize text\n",
        "tokenizer = Tokenizer(num_words=4000, oov_token=\"<OOV>\")\n",
        "tokenizer.fit_on_texts(df[\"cleaned_message\"])"
      ],
      "metadata": {
        "id": "-WUuT3n28B_W"
      },
      "execution_count": 714,
      "outputs": []
    },
    {
      "cell_type": "code",
      "source": [
        "# Convert text to sequences\n",
        "sequences = tokenizer.texts_to_sequences(df[\"cleaned_message\"])"
      ],
      "metadata": {
        "id": "Vy_QGQnu8CCG"
      },
      "execution_count": 715,
      "outputs": []
    },
    {
      "cell_type": "code",
      "source": [
        "# Pad sequences to ensure equal length\n",
        "max_length = 35  # Choose a max length for padding\n",
        "X = pad_sequences(sequences, maxlen=max_length, padding=\"post\", truncating=\"post\")\n",
        "y = df[\"label\"].values"
      ],
      "metadata": {
        "id": "InIu6fhA8CE9"
      },
      "execution_count": 716,
      "outputs": []
    },
    {
      "cell_type": "markdown",
      "source": [
        "### Step 5. Train the data"
      ],
      "metadata": {
        "id": "9NZdmzYUThvJ"
      }
    },
    {
      "cell_type": "code",
      "source": [
        "# Train-test split\n",
        "X_train, X_test, y_train, y_test = train_test_split(X, y, test_size=0.3, random_state=42)"
      ],
      "metadata": {
        "id": "msjjnJxG8CIE"
      },
      "execution_count": 717,
      "outputs": []
    },
    {
      "cell_type": "code",
      "source": [
        "# Define Neural Network model\n",
        "model = tf.keras.Sequential([\n",
        "    tf.keras.layers.Embedding(input_dim=4000, output_dim=128, input_length=max_length),  # Word embeddings\n",
        "    tf.keras.layers.GlobalAveragePooling1D(),  # Reduce dimensions\n",
        "    # tf.keras.layers.Dense(128, activation=\"relu\"),  # Fully connected layer\n",
        "    tf.keras.layers.Dense(64, activation=\"relu\"),  # Fully connected layer\n",
        "    tf.keras.layers.Dense(32, activation=\"relu\"),  # Fully connected layer\n",
        "    tf.keras.layers.Dense(16, activation=\"relu\"),  # Fully connected layer\n",
        "    tf.keras.layers.Dropout(0.3),  # Prevent overfitting\n",
        "    tf.keras.layers.Dense(1, activation=\"sigmoid\")  # Output layer (binary classification)\n",
        "])\n",
        "\n",
        "# Compile the model\n",
        "model.compile(loss=\"binary_crossentropy\", optimizer=\"adam\", metrics=[\"accuracy\"])\n",
        "\n",
        "# Train the model\n",
        "history = model.fit(X_train, y_train, epochs=10, batch_size=32, validation_data=(X_test, y_test))\n"
      ],
      "metadata": {
        "colab": {
          "base_uri": "https://localhost:8080/",
          "height": 0
        },
        "id": "90r8DttQ8CKa",
        "outputId": "0886d1f9-1d52-480e-d1c9-f140ae84583b"
      },
      "execution_count": 718,
      "outputs": [
        {
          "output_type": "stream",
          "name": "stdout",
          "text": [
            "Epoch 1/10\n"
          ]
        },
        {
          "output_type": "stream",
          "name": "stderr",
          "text": [
            "/usr/local/lib/python3.11/dist-packages/keras/src/layers/core/embedding.py:90: UserWarning: Argument `input_length` is deprecated. Just remove it.\n",
            "  warnings.warn(\n"
          ]
        },
        {
          "output_type": "stream",
          "name": "stdout",
          "text": [
            "\u001b[1m122/122\u001b[0m \u001b[32m━━━━━━━━━━━━━━━━━━━━\u001b[0m\u001b[37m\u001b[0m \u001b[1m3s\u001b[0m 9ms/step - accuracy: 0.8631 - loss: 0.3801 - val_accuracy: 0.8660 - val_loss: 0.1729\n",
            "Epoch 2/10\n",
            "\u001b[1m122/122\u001b[0m \u001b[32m━━━━━━━━━━━━━━━━━━━━\u001b[0m\u001b[37m\u001b[0m \u001b[1m2s\u001b[0m 11ms/step - accuracy: 0.9494 - loss: 0.1511 - val_accuracy: 0.9862 - val_loss: 0.0581\n",
            "Epoch 3/10\n",
            "\u001b[1m122/122\u001b[0m \u001b[32m━━━━━━━━━━━━━━━━━━━━\u001b[0m\u001b[37m\u001b[0m \u001b[1m2s\u001b[0m 10ms/step - accuracy: 0.9892 - loss: 0.0449 - val_accuracy: 0.9868 - val_loss: 0.0468\n",
            "Epoch 4/10\n",
            "\u001b[1m122/122\u001b[0m \u001b[32m━━━━━━━━━━━━━━━━━━━━\u001b[0m\u001b[37m\u001b[0m \u001b[1m1s\u001b[0m 8ms/step - accuracy: 0.9913 - loss: 0.0337 - val_accuracy: 0.9904 - val_loss: 0.0408\n",
            "Epoch 5/10\n",
            "\u001b[1m122/122\u001b[0m \u001b[32m━━━━━━━━━━━━━━━━━━━━\u001b[0m\u001b[37m\u001b[0m \u001b[1m1s\u001b[0m 7ms/step - accuracy: 0.9937 - loss: 0.0295 - val_accuracy: 0.9898 - val_loss: 0.0402\n",
            "Epoch 6/10\n",
            "\u001b[1m122/122\u001b[0m \u001b[32m━━━━━━━━━━━━━━━━━━━━\u001b[0m\u001b[37m\u001b[0m \u001b[1m1s\u001b[0m 7ms/step - accuracy: 0.9989 - loss: 0.0171 - val_accuracy: 0.9910 - val_loss: 0.0399\n",
            "Epoch 7/10\n",
            "\u001b[1m122/122\u001b[0m \u001b[32m━━━━━━━━━━━━━━━━━━━━\u001b[0m\u001b[37m\u001b[0m \u001b[1m1s\u001b[0m 7ms/step - accuracy: 0.9949 - loss: 0.0205 - val_accuracy: 0.9910 - val_loss: 0.0377\n",
            "Epoch 8/10\n",
            "\u001b[1m122/122\u001b[0m \u001b[32m━━━━━━━━━━━━━━━━━━━━\u001b[0m\u001b[37m\u001b[0m \u001b[1m1s\u001b[0m 8ms/step - accuracy: 0.9978 - loss: 0.0118 - val_accuracy: 0.9856 - val_loss: 0.0833\n",
            "Epoch 9/10\n",
            "\u001b[1m122/122\u001b[0m \u001b[32m━━━━━━━━━━━━━━━━━━━━\u001b[0m\u001b[37m\u001b[0m \u001b[1m1s\u001b[0m 7ms/step - accuracy: 0.9959 - loss: 0.0311 - val_accuracy: 0.9898 - val_loss: 0.0489\n",
            "Epoch 10/10\n",
            "\u001b[1m122/122\u001b[0m \u001b[32m━━━━━━━━━━━━━━━━━━━━\u001b[0m\u001b[37m\u001b[0m \u001b[1m1s\u001b[0m 7ms/step - accuracy: 0.9979 - loss: 0.0144 - val_accuracy: 0.9910 - val_loss: 0.0428\n"
          ]
        }
      ]
    },
    {
      "cell_type": "code",
      "source": [
        "# Show model summary\n",
        "model.summary()"
      ],
      "metadata": {
        "colab": {
          "base_uri": "https://localhost:8080/",
          "height": 393
        },
        "id": "nCy1BLRU8CNK",
        "outputId": "17eacc83-4be4-41e1-9e96-8bf2e0ae6d02"
      },
      "execution_count": 719,
      "outputs": [
        {
          "output_type": "display_data",
          "data": {
            "text/plain": [
              "\u001b[1mModel: \"sequential_31\"\u001b[0m\n"
            ],
            "text/html": [
              "<pre style=\"white-space:pre;overflow-x:auto;line-height:normal;font-family:Menlo,'DejaVu Sans Mono',consolas,'Courier New',monospace\"><span style=\"font-weight: bold\">Model: \"sequential_31\"</span>\n",
              "</pre>\n"
            ]
          },
          "metadata": {}
        },
        {
          "output_type": "display_data",
          "data": {
            "text/plain": [
              "┏━━━━━━━━━━━━━━━━━━━━━━━━━━━━━━━━━━━━━━┳━━━━━━━━━━━━━━━━━━━━━━━━━━━━━┳━━━━━━━━━━━━━━━━━┓\n",
              "┃\u001b[1m \u001b[0m\u001b[1mLayer (type)                        \u001b[0m\u001b[1m \u001b[0m┃\u001b[1m \u001b[0m\u001b[1mOutput Shape               \u001b[0m\u001b[1m \u001b[0m┃\u001b[1m \u001b[0m\u001b[1m        Param #\u001b[0m\u001b[1m \u001b[0m┃\n",
              "┡━━━━━━━━━━━━━━━━━━━━━━━━━━━━━━━━━━━━━━╇━━━━━━━━━━━━━━━━━━━━━━━━━━━━━╇━━━━━━━━━━━━━━━━━┩\n",
              "│ embedding_31 (\u001b[38;5;33mEmbedding\u001b[0m)             │ (\u001b[38;5;45mNone\u001b[0m, \u001b[38;5;34m35\u001b[0m, \u001b[38;5;34m128\u001b[0m)             │         \u001b[38;5;34m512,000\u001b[0m │\n",
              "├──────────────────────────────────────┼─────────────────────────────┼─────────────────┤\n",
              "│ global_average_pooling1d_31          │ (\u001b[38;5;45mNone\u001b[0m, \u001b[38;5;34m128\u001b[0m)                 │               \u001b[38;5;34m0\u001b[0m │\n",
              "│ (\u001b[38;5;33mGlobalAveragePooling1D\u001b[0m)             │                             │                 │\n",
              "├──────────────────────────────────────┼─────────────────────────────┼─────────────────┤\n",
              "│ dense_131 (\u001b[38;5;33mDense\u001b[0m)                    │ (\u001b[38;5;45mNone\u001b[0m, \u001b[38;5;34m64\u001b[0m)                  │           \u001b[38;5;34m8,256\u001b[0m │\n",
              "├──────────────────────────────────────┼─────────────────────────────┼─────────────────┤\n",
              "│ dense_132 (\u001b[38;5;33mDense\u001b[0m)                    │ (\u001b[38;5;45mNone\u001b[0m, \u001b[38;5;34m32\u001b[0m)                  │           \u001b[38;5;34m2,080\u001b[0m │\n",
              "├──────────────────────────────────────┼─────────────────────────────┼─────────────────┤\n",
              "│ dense_133 (\u001b[38;5;33mDense\u001b[0m)                    │ (\u001b[38;5;45mNone\u001b[0m, \u001b[38;5;34m16\u001b[0m)                  │             \u001b[38;5;34m528\u001b[0m │\n",
              "├──────────────────────────────────────┼─────────────────────────────┼─────────────────┤\n",
              "│ dropout_31 (\u001b[38;5;33mDropout\u001b[0m)                 │ (\u001b[38;5;45mNone\u001b[0m, \u001b[38;5;34m16\u001b[0m)                  │               \u001b[38;5;34m0\u001b[0m │\n",
              "├──────────────────────────────────────┼─────────────────────────────┼─────────────────┤\n",
              "│ dense_134 (\u001b[38;5;33mDense\u001b[0m)                    │ (\u001b[38;5;45mNone\u001b[0m, \u001b[38;5;34m1\u001b[0m)                   │              \u001b[38;5;34m17\u001b[0m │\n",
              "└──────────────────────────────────────┴─────────────────────────────┴─────────────────┘\n"
            ],
            "text/html": [
              "<pre style=\"white-space:pre;overflow-x:auto;line-height:normal;font-family:Menlo,'DejaVu Sans Mono',consolas,'Courier New',monospace\">┏━━━━━━━━━━━━━━━━━━━━━━━━━━━━━━━━━━━━━━┳━━━━━━━━━━━━━━━━━━━━━━━━━━━━━┳━━━━━━━━━━━━━━━━━┓\n",
              "┃<span style=\"font-weight: bold\"> Layer (type)                         </span>┃<span style=\"font-weight: bold\"> Output Shape                </span>┃<span style=\"font-weight: bold\">         Param # </span>┃\n",
              "┡━━━━━━━━━━━━━━━━━━━━━━━━━━━━━━━━━━━━━━╇━━━━━━━━━━━━━━━━━━━━━━━━━━━━━╇━━━━━━━━━━━━━━━━━┩\n",
              "│ embedding_31 (<span style=\"color: #0087ff; text-decoration-color: #0087ff\">Embedding</span>)             │ (<span style=\"color: #00d7ff; text-decoration-color: #00d7ff\">None</span>, <span style=\"color: #00af00; text-decoration-color: #00af00\">35</span>, <span style=\"color: #00af00; text-decoration-color: #00af00\">128</span>)             │         <span style=\"color: #00af00; text-decoration-color: #00af00\">512,000</span> │\n",
              "├──────────────────────────────────────┼─────────────────────────────┼─────────────────┤\n",
              "│ global_average_pooling1d_31          │ (<span style=\"color: #00d7ff; text-decoration-color: #00d7ff\">None</span>, <span style=\"color: #00af00; text-decoration-color: #00af00\">128</span>)                 │               <span style=\"color: #00af00; text-decoration-color: #00af00\">0</span> │\n",
              "│ (<span style=\"color: #0087ff; text-decoration-color: #0087ff\">GlobalAveragePooling1D</span>)             │                             │                 │\n",
              "├──────────────────────────────────────┼─────────────────────────────┼─────────────────┤\n",
              "│ dense_131 (<span style=\"color: #0087ff; text-decoration-color: #0087ff\">Dense</span>)                    │ (<span style=\"color: #00d7ff; text-decoration-color: #00d7ff\">None</span>, <span style=\"color: #00af00; text-decoration-color: #00af00\">64</span>)                  │           <span style=\"color: #00af00; text-decoration-color: #00af00\">8,256</span> │\n",
              "├──────────────────────────────────────┼─────────────────────────────┼─────────────────┤\n",
              "│ dense_132 (<span style=\"color: #0087ff; text-decoration-color: #0087ff\">Dense</span>)                    │ (<span style=\"color: #00d7ff; text-decoration-color: #00d7ff\">None</span>, <span style=\"color: #00af00; text-decoration-color: #00af00\">32</span>)                  │           <span style=\"color: #00af00; text-decoration-color: #00af00\">2,080</span> │\n",
              "├──────────────────────────────────────┼─────────────────────────────┼─────────────────┤\n",
              "│ dense_133 (<span style=\"color: #0087ff; text-decoration-color: #0087ff\">Dense</span>)                    │ (<span style=\"color: #00d7ff; text-decoration-color: #00d7ff\">None</span>, <span style=\"color: #00af00; text-decoration-color: #00af00\">16</span>)                  │             <span style=\"color: #00af00; text-decoration-color: #00af00\">528</span> │\n",
              "├──────────────────────────────────────┼─────────────────────────────┼─────────────────┤\n",
              "│ dropout_31 (<span style=\"color: #0087ff; text-decoration-color: #0087ff\">Dropout</span>)                 │ (<span style=\"color: #00d7ff; text-decoration-color: #00d7ff\">None</span>, <span style=\"color: #00af00; text-decoration-color: #00af00\">16</span>)                  │               <span style=\"color: #00af00; text-decoration-color: #00af00\">0</span> │\n",
              "├──────────────────────────────────────┼─────────────────────────────┼─────────────────┤\n",
              "│ dense_134 (<span style=\"color: #0087ff; text-decoration-color: #0087ff\">Dense</span>)                    │ (<span style=\"color: #00d7ff; text-decoration-color: #00d7ff\">None</span>, <span style=\"color: #00af00; text-decoration-color: #00af00\">1</span>)                   │              <span style=\"color: #00af00; text-decoration-color: #00af00\">17</span> │\n",
              "└──────────────────────────────────────┴─────────────────────────────┴─────────────────┘\n",
              "</pre>\n"
            ]
          },
          "metadata": {}
        },
        {
          "output_type": "display_data",
          "data": {
            "text/plain": [
              "\u001b[1m Total params: \u001b[0m\u001b[38;5;34m1,568,645\u001b[0m (5.98 MB)\n"
            ],
            "text/html": [
              "<pre style=\"white-space:pre;overflow-x:auto;line-height:normal;font-family:Menlo,'DejaVu Sans Mono',consolas,'Courier New',monospace\"><span style=\"font-weight: bold\"> Total params: </span><span style=\"color: #00af00; text-decoration-color: #00af00\">1,568,645</span> (5.98 MB)\n",
              "</pre>\n"
            ]
          },
          "metadata": {}
        },
        {
          "output_type": "display_data",
          "data": {
            "text/plain": [
              "\u001b[1m Trainable params: \u001b[0m\u001b[38;5;34m522,881\u001b[0m (1.99 MB)\n"
            ],
            "text/html": [
              "<pre style=\"white-space:pre;overflow-x:auto;line-height:normal;font-family:Menlo,'DejaVu Sans Mono',consolas,'Courier New',monospace\"><span style=\"font-weight: bold\"> Trainable params: </span><span style=\"color: #00af00; text-decoration-color: #00af00\">522,881</span> (1.99 MB)\n",
              "</pre>\n"
            ]
          },
          "metadata": {}
        },
        {
          "output_type": "display_data",
          "data": {
            "text/plain": [
              "\u001b[1m Non-trainable params: \u001b[0m\u001b[38;5;34m0\u001b[0m (0.00 B)\n"
            ],
            "text/html": [
              "<pre style=\"white-space:pre;overflow-x:auto;line-height:normal;font-family:Menlo,'DejaVu Sans Mono',consolas,'Courier New',monospace\"><span style=\"font-weight: bold\"> Non-trainable params: </span><span style=\"color: #00af00; text-decoration-color: #00af00\">0</span> (0.00 B)\n",
              "</pre>\n"
            ]
          },
          "metadata": {}
        },
        {
          "output_type": "display_data",
          "data": {
            "text/plain": [
              "\u001b[1m Optimizer params: \u001b[0m\u001b[38;5;34m1,045,764\u001b[0m (3.99 MB)\n"
            ],
            "text/html": [
              "<pre style=\"white-space:pre;overflow-x:auto;line-height:normal;font-family:Menlo,'DejaVu Sans Mono',consolas,'Courier New',monospace\"><span style=\"font-weight: bold\"> Optimizer params: </span><span style=\"color: #00af00; text-decoration-color: #00af00\">1,045,764</span> (3.99 MB)\n",
              "</pre>\n"
            ]
          },
          "metadata": {}
        }
      ]
    },
    {
      "cell_type": "markdown",
      "source": [
        "### Step 6. Evalute the model"
      ],
      "metadata": {
        "id": "hx5oJ-bzTr0v"
      }
    },
    {
      "cell_type": "code",
      "source": [
        "# Evaluate model on test data\n",
        "loss, accuracy = model.evaluate(X_test, y_test)\n",
        "print(f\"Test Accuracy: {accuracy:.4f}\")"
      ],
      "metadata": {
        "colab": {
          "base_uri": "https://localhost:8080/",
          "height": 0
        },
        "id": "oJpOn1rq8CQF",
        "outputId": "6e7210c6-4fe5-4bc1-8860-2af10378ec82"
      },
      "execution_count": 720,
      "outputs": [
        {
          "output_type": "stream",
          "name": "stdout",
          "text": [
            "\u001b[1m53/53\u001b[0m \u001b[32m━━━━━━━━━━━━━━━━━━━━\u001b[0m\u001b[37m\u001b[0m \u001b[1m0s\u001b[0m 2ms/step - accuracy: 0.9890 - loss: 0.0615\n",
            "Test Accuracy: 0.9910\n"
          ]
        }
      ]
    },
    {
      "cell_type": "code",
      "source": [
        "# Get model predictions (convert probabilities to binary 0 or 1)\n",
        "y_pred_prob = model.predict(X_test)\n",
        "y_pred = (y_pred_prob > 0.5).astype(int)  # Threshold at 0.5 for binary classification\n",
        "\n",
        "# Calculate evaluation metrics\n",
        "accuracy = accuracy_score(y_test, y_pred)\n",
        "precision = precision_score(y_test, y_pred)\n",
        "recall = recall_score(y_test, y_pred)\n",
        "f1 = f1_score(y_test, y_pred)\n",
        "\n",
        "# Print the results\n",
        "print(f\"Accuracy: {accuracy:.4f}\")\n",
        "print(f\"Precision: {precision:.4f}\")\n",
        "print(f\"Recall: {recall:.4f}\")\n",
        "print(f\"F1 Score: {f1:.4f}\")"
      ],
      "metadata": {
        "colab": {
          "base_uri": "https://localhost:8080/",
          "height": 0
        },
        "id": "izE8VEO88CSw",
        "outputId": "b1b3e8bb-83de-42ee-ed8d-68138fe62abf"
      },
      "execution_count": 721,
      "outputs": [
        {
          "output_type": "stream",
          "name": "stdout",
          "text": [
            "\u001b[1m53/53\u001b[0m \u001b[32m━━━━━━━━━━━━━━━━━━━━\u001b[0m\u001b[37m\u001b[0m \u001b[1m0s\u001b[0m 3ms/step\n",
            "Accuracy: 0.9910\n",
            "Precision: 0.9644\n",
            "Recall: 0.9688\n",
            "F1 Score: 0.9666\n"
          ]
        }
      ]
    },
    {
      "cell_type": "code",
      "source": [
        "# Compute confusion matrix\n",
        "conf_matrix = confusion_matrix(y_test, y_pred)\n",
        "\n",
        "# Visualize confusion matrix\n",
        "plt.figure(figsize=(5, 4))\n",
        "sns.heatmap(conf_matrix, annot=True, fmt=\"d\", cmap=\"Blues\",\n",
        "            xticklabels=[\"Ham (0)\", \"Spam (1)\"],\n",
        "            yticklabels=[\"Ham (0)\", \"Spam (1)\"])\n",
        "plt.xlabel(\"Predicted Label\")\n",
        "plt.ylabel(\"True Label\")\n",
        "plt.title(\"Confusion Matrix\")\n",
        "plt.show()"
      ],
      "metadata": {
        "colab": {
          "base_uri": "https://localhost:8080/",
          "height": 410
        },
        "id": "8AsFcuRYFnwi",
        "outputId": "fbd1b255-b0eb-4762-8fad-4d83b8d2ac0e"
      },
      "execution_count": 722,
      "outputs": [
        {
          "output_type": "display_data",
          "data": {
            "text/plain": [
              "<Figure size 500x400 with 2 Axes>"
            ],
            "image/png": "[encoded data removed]"
          },
          "metadata": {}
        }
      ]
    },
    {
      "cell_type": "code",
      "source": [
        "# Example new messages\n",
        "new_messages = [\"Congratulations! You won a free iPhone for lifetime! Please call at this number to claim the price 667-235-5216\",\n",
        "                \"Hey, let's meet for coffee\",\n",
        "                \"You have won a very very BIG PRIZE. Please use this link for more information http://freefood.com\",\n",
        "                \"BIG PRICE is coming up for you at your door. Please click to this link or call this number 123-412-2541 to receive the price\",\n",
        "                \"For me the love should start with attraction.i should feel that I need her every time around me.she should be the first thing which comes in my thoughts.\"]\n",
        "\n",
        "new_messages = [clean_text(msg) for msg in new_messages]\n",
        "\n",
        "# Preprocess (tokenize and pad)\n",
        "new_sequences = tokenizer.texts_to_sequences(new_messages)\n",
        "new_padded = pad_sequences(new_sequences, maxlen=max_length, padding=\"post\")\n",
        "\n",
        "# Predict (1 = Spam, 0 = Ham)\n",
        "predictions = model.predict(new_padded)\n",
        "predicted_labels = [\"Spam\" if p > 0.5 else \"Ham\" for p in predictions]\n",
        "\n",
        "# Display results\n",
        "for msg, pred in zip(new_messages, predicted_labels):\n",
        "    print(f\"Message: {msg} -> Prediction: {pred}\")"
      ],
      "metadata": {
        "colab": {
          "base_uri": "https://localhost:8080/",
          "height": 0
        },
        "id": "4ArEBV0nFn0T",
        "outputId": "3ecd0eff-2914-4430-9fdb-e5c16b52cc06"
      },
      "execution_count": 723,
      "outputs": [
        {
          "output_type": "stream",
          "name": "stdout",
          "text": [
            "\u001b[1m1/1\u001b[0m \u001b[32m━━━━━━━━━━━━━━━━━━━━\u001b[0m\u001b[37m\u001b[0m \u001b[1m0s\u001b[0m 38ms/step\n",
            "Message: Congratulations You won a free iPhone for lifetime Please call at this number to claim the price 667 235 5216 -> Prediction: Spam\n",
            "Message: Hey let s meet for coffee -> Prediction: Ham\n",
            "Message: You have won a very very BIG PRIZE Please use this link for more information http freefood com -> Prediction: Spam\n",
            "Message: BIG PRICE is coming up for you at your door Please click to this link or call this number 123 412 2541 to receive the price -> Prediction: Spam\n",
            "Message: For me the love should start with attraction i should feel that I need her every time around me she should be the first thing which comes in my thoughts -> Prediction: Ham\n"
          ]
        }
      ]
    },
    {
      "cell_type": "markdown",
      "source": [
        "> From the example shown above, it is able to predict **all 5 examples** (3 Spam, 2 Ham)"
      ],
      "metadata": {
        "id": "MeNgQQX8VMTW"
      }
    },
    {
      "cell_type": "markdown",
      "source": [
        "### This is the summary of the fine-tuning:\n",
        "\n",
        "##### - Maxium length for each message, if the message length < 35 then fill the rest with 0\n",
        "- max_length = **35**\n",
        "\n",
        "##### - Create a vocabulary of 4000 most frequent words, thus input_dm == vocabulary size == 4000\n",
        "- num_words = **4000** and input_dim = **4000**\n",
        "\n",
        "##### - Training data = 70%, Development data = 30%\n",
        "\n",
        "##### - Add dropout to prevent overfitting\n",
        "- Dropout = 0.3\n",
        "\n",
        "---\n",
        "### **4-Layer Deep Neural Network (DNN)**\n",
        "- **First Layer**: ***64*** perceptrons with *Relu*\n",
        "\n",
        "##### Maxium length for each message, if missing then fill with 0\n",
        "- **Second Layer**: ***32*** perceptrons with *Relu*\n",
        "\n",
        "##### Maxium length for each message, if missing then fill with 0\n",
        "- **First Layer**: ***16*** perceptrons with *Relu*\n",
        "\n",
        "##### Maxium length for each message, if missing then fill with 0\n",
        "- **Output Layer**: ***1*** perceptron with *Sigmoid*\n",
        "\n",
        "## Prediction result:\n",
        "- Accuracy: 0.9910\n",
        "- Precision: 0.9644\n",
        "- Recall: 0.9688\n",
        "- F1 Score: 0.9666"
      ],
      "metadata": {
        "id": "lt6sdDZWUBQT"
      }
    },
    {
      "cell_type": "markdown",
      "source": [
        "### Apply for Decision Trees"
      ],
      "metadata": {
        "id": "Rpa2ZhVVK_XV"
      }
    },
    {
      "cell_type": "code",
      "source": [
        "# Split the data into features and labels\n",
        "X = df[\"cleaned_message\"]\n",
        "y = df[\"label\"]"
      ],
      "metadata": {
        "id": "udpdVtnJLzp0"
      },
      "execution_count": 724,
      "outputs": []
    },
    {
      "cell_type": "code",
      "source": [
        "# Convert text to numerical features using TF-IDF\n",
        "vectorizer = TfidfVectorizer(max_features=2000)  # We can adjust max_features, I choose 2000 since it output the best result\n",
        "X_tfidf = vectorizer.fit_transform(X)"
      ],
      "metadata": {
        "id": "RvPME7Q6K-kR"
      },
      "execution_count": 725,
      "outputs": []
    },
    {
      "cell_type": "code",
      "source": [
        "# Split the data into training and testing sets (70% train, 30% test)\n",
        "X_train, X_test, y_train, y_test = train_test_split(X_tfidf, y, test_size=0.3, random_state=42)"
      ],
      "metadata": {
        "id": "OeCDCdt8MVfY"
      },
      "execution_count": 726,
      "outputs": []
    },
    {
      "cell_type": "code",
      "source": [
        "# Train a Decision Tree model\n",
        "model = DecisionTreeClassifier(random_state=42)\n",
        "model.fit(X_train, y_train)\n",
        "\n",
        "# Predict on the test set\n",
        "y_pred = model.predict(X_test)\n",
        "\n",
        "# Evaluate the model\n",
        "accuracy = accuracy_score(y_test, y_pred)\n",
        "print(f\"Accuracy: {accuracy * 100:.2f}%\")\n",
        "\n",
        "# Classification report for more detailed performance metrics\n",
        "print(classification_report(y_test, y_pred, target_names=[\"Ham\", \"Spam\"]))"
      ],
      "metadata": {
        "colab": {
          "base_uri": "https://localhost:8080/",
          "height": 0
        },
        "id": "00W1krFDFn6X",
        "outputId": "8abde53e-54fd-4a3b-978c-bdc594d4d58b"
      },
      "execution_count": 727,
      "outputs": [
        {
          "output_type": "stream",
          "name": "stdout",
          "text": [
            "Accuracy: 97.13%\n",
            "              precision    recall  f1-score   support\n",
            "\n",
            "         Ham       0.98      0.99      0.98      1448\n",
            "        Spam       0.91      0.88      0.89       224\n",
            "\n",
            "    accuracy                           0.97      1672\n",
            "   macro avg       0.94      0.93      0.94      1672\n",
            "weighted avg       0.97      0.97      0.97      1672\n",
            "\n"
          ]
        }
      ]
    },
    {
      "cell_type": "markdown",
      "source": [
        "# Final Result"
      ],
      "metadata": {
        "id": "hQQ0_VFxUuPQ"
      }
    },
    {
      "cell_type": "markdown",
      "source": [
        "4-Layer Neural Network (DNN): Accuracy: 99.10%  \n",
        "Decision Trees: Accuracy: 97.13%"
      ],
      "metadata": {
        "id": "7ipPVwoFVC86"
      }
    },
    {
      "cell_type": "markdown",
      "source": [
        "#### From the test above, we can see that both of the models Neural Network and Decision Trees makes very high prediction accuracy for this small dataset with fine-tuning"
      ],
      "metadata": {
        "id": "IvzS44bpWg-N"
      }
    },
    {
      "cell_type": "code",
      "source": [],
      "metadata": {
        "id": "NGTsNN_dWobG"
      },
      "execution_count": null,
      "outputs": []
    }
  ]
}